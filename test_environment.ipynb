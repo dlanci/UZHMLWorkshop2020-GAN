{
 "cells": [
  {
   "cell_type": "markdown",
   "metadata": {},
   "source": [
    "# Test environment"
   ]
  },
  {
   "cell_type": "code",
   "execution_count": null,
   "metadata": {},
   "outputs": [],
   "source": [
    "#import scipy as sp\n",
    "#import os \n",
    "import numpy as np\n",
    "import pickle\n",
    "import os\n",
    "import tensorflow as tf\n",
    "import matplotlib.pyplot as plt\n",
    "import time\n",
    "import datetime\n",
    "from tensorflow.keras import layers, models\n",
    "import tensorflow.keras.backend as kb\n",
    "\n",
    "\n",
    "from IPython import display\n",
    "import warnings; warnings.simplefilter('ignore')\n"
   ]
  },
  {
   "cell_type": "code",
   "execution_count": null,
   "metadata": {},
   "outputs": [],
   "source": [
    "#get some utils from:\n",
    "!git clone https://github.com/dlanci/UZHMLWorkshop2020-GAN\n",
    "os.chdir('UZHMLWorkshop2020-GAN/')\n",
    "from utils.utils import load_dataset"
   ]
  },
  {
   "cell_type": "code",
   "execution_count": null,
   "metadata": {
    "scrolled": true
   },
   "outputs": [],
   "source": [
    "#load the dataset file\n",
    "!wget -O batch0.pickle \"https://www.dropbox.com/s/wn8ilvp8k67grz4/batch0.pickle?dl=0\";\n",
    "#!wget -O batch1.pickle \"https://www.dropbox.com/s/5vjme0o8drbi0v4/batch1.pickle?dl=0\";\n",
    "#!wget -O batch2.pickle \"https://www.dropbox.com/s/rz2b8c4911kb4iy/batch2.pickle?dl=0\";\n",
    "#!wget -O batch3.pickle \"https://www.dropbox.com/s/2wa94zzt7wq2002/batch3.pickle?dl=0\";\n",
    "#!wget -O batch4.pickle \"https://www.dropbox.com/s/icntmsval8nync5/batch4.pickle?dl=0\";"
   ]
  },
  {
   "cell_type": "code",
   "execution_count": null,
   "metadata": {},
   "outputs": [],
   "source": [
    "tuple_, _ = load_dataset(path='.', test=True) "
   ]
  },
  {
   "cell_type": "code",
   "execution_count": null,
   "metadata": {},
   "outputs": [],
   "source": []
  }
 ],
 "metadata": {
  "kernelspec": {
   "display_name": "Python 3",
   "language": "python",
   "name": "python3"
  },
  "language_info": {
   "codemirror_mode": {
    "name": "ipython",
    "version": 3
   },
   "file_extension": ".py",
   "mimetype": "text/x-python",
   "name": "python",
   "nbconvert_exporter": "python",
   "pygments_lexer": "ipython3",
   "version": "3.8.5"
  }
 },
 "nbformat": 4,
 "nbformat_minor": 4
}
