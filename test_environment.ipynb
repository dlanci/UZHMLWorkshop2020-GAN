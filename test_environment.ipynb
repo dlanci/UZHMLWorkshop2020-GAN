{
 "cells": [
  {
   "cell_type": "markdown",
   "metadata": {},
   "source": [
    "# Test environment"
   ]
  },
  {
   "cell_type": "code",
   "execution_count": 4,
   "metadata": {},
   "outputs": [],
   "source": [
    "#import scipy as sp\n",
    "#import os \n",
    "import numpy as np\n",
    "import pickle\n",
    "import os\n",
    "import tensorflow as tf\n",
    "import matplotlib.pyplot as plt\n",
    "import time\n",
    "import datetime\n",
    "from tensorflow.keras import layers, models\n",
    "import tensorflow.keras.backend as kb\n",
    "\n",
    "\n",
    "from IPython import display\n",
    "import warnings; warnings.simplefilter('ignore')\n"
   ]
  },
  {
   "cell_type": "code",
   "execution_count": 5,
   "metadata": {},
   "outputs": [],
   "source": [
    "#get some utils from:\n",
    "!git clone https://github.com/dlanci/UZHMLWorkshop2020-GAN\n",
    "from utils.utils import load_dataset"
   ]
  },
  {
   "cell_type": "code",
   "execution_count": 6,
   "metadata": {
    "scrolled": true
   },
   "outputs": [
    {
     "name": "stdout",
     "output_type": "stream",
     "text": [
      "--2020-11-15 16:57:10--  https://www.dropbox.com/s/wn8ilvp8k67grz4/batch0.pickle?dl=0\n",
      "Resolving www.dropbox.com (www.dropbox.com)... 162.125.69.1, 2620:100:6025:1::a27d:4501\n",
      "Connecting to www.dropbox.com (www.dropbox.com)|162.125.69.1|:443... connected.\n",
      "HTTP request sent, awaiting response... 301 Moved Permanently\n",
      "Location: /s/raw/wn8ilvp8k67grz4/batch0.pickle [following]\n",
      "--2020-11-15 16:57:11--  https://www.dropbox.com/s/raw/wn8ilvp8k67grz4/batch0.pickle\n",
      "Reusing existing connection to www.dropbox.com:443.\n",
      "HTTP request sent, awaiting response... 302 Found\n",
      "Location: https://ucb50d1303cd3f5c037173e6d9a8.dl.dropboxusercontent.com/cd/0/inline/BDQ5vdTwE2IaT4761X1Y4TXjTxfHmZ0zkO4YGDJVI8YA0x09aOeaeqDqz50I4MG84ldjFGAnlPCMuPtVcqFM-jNQSGSr8Gi-QwvM60kK9e9nZM01kDxLdAuq6KXgF-dMAdg/file# [following]\n",
      "--2020-11-15 16:57:11--  https://ucb50d1303cd3f5c037173e6d9a8.dl.dropboxusercontent.com/cd/0/inline/BDQ5vdTwE2IaT4761X1Y4TXjTxfHmZ0zkO4YGDJVI8YA0x09aOeaeqDqz50I4MG84ldjFGAnlPCMuPtVcqFM-jNQSGSr8Gi-QwvM60kK9e9nZM01kDxLdAuq6KXgF-dMAdg/file\n",
      "Resolving ucb50d1303cd3f5c037173e6d9a8.dl.dropboxusercontent.com (ucb50d1303cd3f5c037173e6d9a8.dl.dropboxusercontent.com)... 162.125.69.15, 2620:100:6025:15::a27d:450f\n",
      "Connecting to ucb50d1303cd3f5c037173e6d9a8.dl.dropboxusercontent.com (ucb50d1303cd3f5c037173e6d9a8.dl.dropboxusercontent.com)|162.125.69.15|:443... connected.\n",
      "HTTP request sent, awaiting response... 302 Found\n",
      "Location: /cd/0/inline2/BDQN-35lWmtq1lWOwGg8uXb49sRKBUGVZL4JIK_X-3ltWNwIpl9oPhIC21WT_lWgsUkVXczgB8wb0qHsnLOT5FiuMum4Q51sTfAMWLAhY4T1K5fznvgfbckeAYTRJkx2TMzsiz64nYVr-bHlN-cbHw5zfs6GEIMyYnX55CX53NjvwaD_fHoWF1x8nfkLnvt3W9wLprlcQMfrsU-1qFrYHW1zc6MY9pO8m3WM5nxXQox9I7Jr-v2_7fWUhyaV3lr9IKSDZ-RGyBDsfc4jqJjQt7hXOJjldpZBPQ9iE54TA7sS0_MIY8XM0X9JoTFJ5MEfi-hCR5bt2VBn0nBwuo98wwf5B5mlmwzUKMTBU3fwUhGdZw/file [following]\n",
      "--2020-11-15 16:57:12--  https://ucb50d1303cd3f5c037173e6d9a8.dl.dropboxusercontent.com/cd/0/inline2/BDQN-35lWmtq1lWOwGg8uXb49sRKBUGVZL4JIK_X-3ltWNwIpl9oPhIC21WT_lWgsUkVXczgB8wb0qHsnLOT5FiuMum4Q51sTfAMWLAhY4T1K5fznvgfbckeAYTRJkx2TMzsiz64nYVr-bHlN-cbHw5zfs6GEIMyYnX55CX53NjvwaD_fHoWF1x8nfkLnvt3W9wLprlcQMfrsU-1qFrYHW1zc6MY9pO8m3WM5nxXQox9I7Jr-v2_7fWUhyaV3lr9IKSDZ-RGyBDsfc4jqJjQt7hXOJjldpZBPQ9iE54TA7sS0_MIY8XM0X9JoTFJ5MEfi-hCR5bt2VBn0nBwuo98wwf5B5mlmwzUKMTBU3fwUhGdZw/file\n",
      "Reusing existing connection to ucb50d1303cd3f5c037173e6d9a8.dl.dropboxusercontent.com:443.\n",
      "HTTP request sent, awaiting response... 200 OK\n",
      "Length: 191100588 (182M) [application/octet-stream]\n",
      "Saving to: ‘batch0.pickle’\n",
      "\n",
      "batch0.pickle       100%[===================>] 182.25M  25.0MB/s    in 8.3s    \n",
      "\n",
      "2020-11-15 16:57:21 (22.0 MB/s) - ‘batch0.pickle’ saved [191100588/191100588]\n",
      "\n"
     ]
    }
   ],
   "source": [
    "#load the dataset file\n",
    "os.chdir('.ML_UZH_datasets/')\n",
    "!wget -O batch0.pickle \"https://www.dropbox.com/s/wn8ilvp8k67grz4/batch0.pickle?dl=0\";\n",
    "#!wget -O batch1.pickle \"https://www.dropbox.com/s/5vjme0o8drbi0v4/batch1.pickle?dl=0\";\n",
    "#!wget -O batch2.pickle \"https://www.dropbox.com/s/rz2b8c4911kb4iy/batch2.pickle?dl=0\";\n",
    "#!wget -O batch3.pickle \"https://www.dropbox.com/s/2wa94zzt7wq2002/batch3.pickle?dl=0\";\n",
    "#!wget -O batch4.pickle \"https://www.dropbox.com/s/icntmsval8nync5/batch4.pickle?dl=0\";"
   ]
  },
  {
   "cell_type": "code",
   "execution_count": 7,
   "metadata": {},
   "outputs": [
    {
     "name": "stdout",
     "output_type": "stream",
     "text": [
      "Opening file:  /disk/lhcb_data/davide/ML_UZH_ds/batch0.pickle\n",
      "Dataset 0 contains 6673 events\n",
      "Total train set contains 6673 events\n"
     ]
    }
   ],
   "source": [
    "tuple_, _ = load_dataset(path='.ML_UZH_datasets/', test=True) "
   ]
  },
  {
   "cell_type": "code",
   "execution_count": null,
   "metadata": {},
   "outputs": [],
   "source": []
  }
 ],
 "metadata": {
  "kernelspec": {
   "display_name": "Python 3",
   "language": "python",
   "name": "python3"
  },
  "language_info": {
   "codemirror_mode": {
    "name": "ipython",
    "version": 3
   },
   "file_extension": ".py",
   "mimetype": "text/x-python",
   "name": "python",
   "nbconvert_exporter": "python",
   "pygments_lexer": "ipython3",
   "version": "3.8.5"
  }
 },
 "nbformat": 4,
 "nbformat_minor": 4
}
